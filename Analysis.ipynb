{
 "cells": [
  {
   "cell_type": "code",
   "execution_count": 1,
   "id": "49da285b",
   "metadata": {},
   "outputs": [
    {
     "data": {
      "application/vnd.jupyter.widget-view+json": {
       "model_id": "637d8a5313714a9eb36a6db6067b36a7",
       "version_major": 2,
       "version_minor": 0
      },
      "text/plain": [
       "VBox()"
      ]
     },
     "metadata": {},
     "output_type": "display_data"
    },
    {
     "name": "stdout",
     "output_type": "stream",
     "text": [
      "Starting Spark application\n"
     ]
    },
    {
     "data": {
      "text/html": [
       "<table>\n",
       "<tr><th>ID</th><th>YARN Application ID</th><th>Kind</th><th>State</th><th>Spark UI</th><th>Driver log</th><th>Current session?</th></tr><tr><td>0</td><td>application_1638463447423_0001</td><td>pyspark</td><td>idle</td><td><a target=\"_blank\" href=\"http://ip-172-31-39-25.ec2.internal:20888/proxy/application_1638463447423_0001/\">Link</a></td><td><a target=\"_blank\" href=\"http://ip-172-31-47-212.ec2.internal:8042/node/containerlogs/container_1638463447423_0001_01_000001/livy\">Link</a></td><td>✔</td></tr></table>"
      ],
      "text/plain": [
       "<IPython.core.display.HTML object>"
      ]
     },
     "metadata": {},
     "output_type": "display_data"
    },
    {
     "data": {
      "application/vnd.jupyter.widget-view+json": {
       "model_id": "",
       "version_major": 2,
       "version_minor": 0
      },
      "text/plain": [
       "FloatProgress(value=0.0, bar_style='info', description='Progress:', layout=Layout(height='25px', width='50%'),…"
      ]
     },
     "metadata": {},
     "output_type": "display_data"
    },
    {
     "name": "stdout",
     "output_type": "stream",
     "text": [
      "SparkSession available as 'spark'.\n"
     ]
    },
    {
     "data": {
      "application/vnd.jupyter.widget-view+json": {
       "model_id": "",
       "version_major": 2,
       "version_minor": 0
      },
      "text/plain": [
       "FloatProgress(value=0.0, bar_style='info', description='Progress:', layout=Layout(height='25px', width='50%'),…"
      ]
     },
     "metadata": {},
     "output_type": "display_data"
    },
    {
     "name": "stdout",
     "output_type": "stream",
     "text": [
      "Collecting pandas==1.0.3\n",
      "  Downloading https://files.pythonhosted.org/packages/4a/6a/94b219b8ea0f2d580169e85ed1edc0163743f55aaeca8a44c2e8fc1e344e/pandas-1.0.3-cp37-cp37m-manylinux1_x86_64.whl (10.0MB)\n",
      "Requirement already satisfied: pytz>=2017.2 in /usr/local/lib/python3.7/site-packages (from pandas==1.0.3)\n",
      "Requirement already satisfied: numpy>=1.13.3 in /usr/local/lib64/python3.7/site-packages (from pandas==1.0.3)\n",
      "Collecting python-dateutil>=2.6.1 (from pandas==1.0.3)\n",
      "  Downloading https://files.pythonhosted.org/packages/36/7a/87837f39d0296e723bb9b62bbb257d0355c7f6128853c78955f57342a56d/python_dateutil-2.8.2-py2.py3-none-any.whl (247kB)\n",
      "Requirement already satisfied: six>=1.5 in /usr/local/lib/python3.7/site-packages (from python-dateutil>=2.6.1->pandas==1.0.3)\n",
      "Installing collected packages: python-dateutil, pandas\n",
      "Successfully installed pandas-1.0.3 python-dateutil-2.8.2\n",
      "\n",
      "Requirement already satisfied: numpy in /usr/local/lib64/python3.7/site-packages\n",
      "\n",
      "Collecting matplotlib\n",
      "  Downloading https://files.pythonhosted.org/packages/6b/48/710ebe39563c5f0cb464c6f1c0eb7bfeb6171a151d65ae8254e12306a210/matplotlib-3.5.0-cp37-cp37m-manylinux_2_5_x86_64.manylinux1_x86_64.whl (11.2MB)\n",
      "Collecting pyparsing>=2.2.1 (from matplotlib)\n",
      "  Downloading https://files.pythonhosted.org/packages/a0/34/895006117f6fce0b4de045c87e154ee4a20c68ec0a4c9a36d900888fb6bc/pyparsing-3.0.6-py3-none-any.whl (97kB)\n",
      "Collecting packaging>=20.0 (from matplotlib)\n",
      "  Downloading https://files.pythonhosted.org/packages/05/8e/8de486cbd03baba4deef4142bd643a3e7bbe954a784dc1bb17142572d127/packaging-21.3-py3-none-any.whl (40kB)\n",
      "Requirement already satisfied: python-dateutil>=2.7 in /mnt/tmp/1638463975745-0/lib/python3.7/site-packages (from matplotlib)\n",
      "Collecting pillow>=6.2.0 (from matplotlib)\n",
      "  Downloading https://files.pythonhosted.org/packages/7d/2a/2fc11b54e2742db06297f7fa7f420a0e3069fdcf0e4b57dfec33f0b08622/Pillow-8.4.0.tar.gz (49.4MB)\n",
      "Collecting cycler>=0.10 (from matplotlib)\n",
      "  Downloading https://files.pythonhosted.org/packages/5c/f9/695d6bedebd747e5eb0fe8fad57b72fdf25411273a39791cde838d5a8f51/cycler-0.11.0-py3-none-any.whl\n",
      "Collecting fonttools>=4.22.0 (from matplotlib)\n",
      "  Downloading https://files.pythonhosted.org/packages/f8/a6/6cebbbee2ef1b68022c164192aa232af5f859f3d96126da6ca9f084bce63/fonttools-4.28.2-py3-none-any.whl (880kB)\n",
      "Collecting setuptools-scm>=4 (from matplotlib)\n",
      "  Downloading https://files.pythonhosted.org/packages/bc/bf/353180314d0e27929703faf240c244f25ae765e01f595a010cafb209ab51/setuptools_scm-6.3.2-py3-none-any.whl\n",
      "Collecting kiwisolver>=1.0.1 (from matplotlib)\n",
      "  Downloading https://files.pythonhosted.org/packages/09/6b/6e567cb2e86d4e5939a9233f8734e26021b6a9c1bc4b1edccba236a84cc2/kiwisolver-1.3.2-cp37-cp37m-manylinux_2_5_x86_64.manylinux1_x86_64.whl (1.1MB)\n",
      "Collecting numpy>=1.17 (from matplotlib)\n",
      "  Downloading https://files.pythonhosted.org/packages/fb/48/b0708ebd7718a8933f0d3937513ef8ef2f4f04529f1f66ca86d873043921/numpy-1.21.4.zip (10.6MB)\n",
      "Requirement already satisfied: six>=1.5 in /usr/local/lib/python3.7/site-packages (from python-dateutil>=2.7->matplotlib)\n",
      "Collecting tomli>=1.0.0 (from setuptools-scm>=4->matplotlib)\n",
      "  Downloading https://files.pythonhosted.org/packages/6d/6c/9908d4db66488217c665a9a5744319406e41f3c46fa5929a8886f2fe1090/tomli-1.2.2-py3-none-any.whl\n",
      "Requirement already satisfied: setuptools in /mnt/tmp/1638463975745-0/lib/python3.7/site-packages (from setuptools-scm>=4->matplotlib)\n",
      "Building wheels for collected packages: pillow, numpy\n",
      "  Running setup.py bdist_wheel for pillow: started\n",
      "  Running setup.py bdist_wheel for pillow: finished with status 'error'\n",
      "  Complete output from command /tmp/1638463975745-0/bin/python -u -c \"import setuptools, tokenize;__file__='/mnt/tmp/pip-build-aabswi7e/pillow/setup.py';f=getattr(tokenize, 'open', open)(__file__);code=f.read().replace('\\r\\n', '\\n');f.close();exec(compile(code, __file__, 'exec'))\" bdist_wheel -d /tmp/tmptqg09zc6pip-wheel- --python-tag cp37:\n",
      "  /usr/lib64/python3.7/distutils/dist.py:274: UserWarning: Unknown distribution option: 'long_description_content_type'\n",
      "    warnings.warn(msg)\n",
      "  /usr/lib64/python3.7/distutils/dist.py:274: UserWarning: Unknown distribution option: 'project_urls'\n",
      "    warnings.warn(msg)\n",
      "  running bdist_wheel\n",
      "  running build\n",
      "  running build_py\n",
      "  creating build\n",
      "  creating build/lib.linux-x86_64-3.7\n",
      "  creating build/lib.linux-x86_64-3.7/PIL\n",
      "  copying src/PIL/BdfFontFile.py -> build/lib.linux-x86_64-3.7/PIL\n",
      "  copying src/PIL/BlpImagePlugin.py -> build/lib.linux-x86_64-3.7/PIL\n",
      "  copying src/PIL/BmpImagePlugin.py -> build/lib.linux-x86_64-3.7/PIL\n",
      "  copying src/PIL/BufrStubImagePlugin.py -> build/lib.linux-x86_64-3.7/PIL\n",
      "  copying src/PIL/ContainerIO.py -> build/lib.linux-x86_64-3.7/PIL\n",
      "  copying src/PIL/CurImagePlugin.py -> build/lib.linux-x86_64-3.7/PIL\n",
      "  copying src/PIL/DcxImagePlugin.py -> build/lib.linux-x86_64-3.7/PIL\n",
      "  copying src/PIL/DdsImagePlugin.py -> build/lib.linux-x86_64-3.7/PIL\n",
      "  copying src/PIL/EpsImagePlugin.py -> build/lib.linux-x86_64-3.7/PIL\n",
      "  copying src/PIL/ExifTags.py -> build/lib.linux-x86_64-3.7/PIL\n",
      "  copying src/PIL/FitsStubImagePlugin.py -> build/lib.linux-x86_64-3.7/PIL\n",
      "  copying src/PIL/FliImagePlugin.py -> build/lib.linux-x86_64-3.7/PIL\n",
      "  copying src/PIL/FontFile.py -> build/lib.linux-x86_64-3.7/PIL\n",
      "  copying src/PIL/FpxImagePlugin.py -> build/lib.linux-x86_64-3.7/PIL\n",
      "  copying src/PIL/FtexImagePlugin.py -> build/lib.linux-x86_64-3.7/PIL\n",
      "  copying src/PIL/GbrImagePlugin.py -> build/lib.linux-x86_64-3.7/PIL\n",
      "  copying src/PIL/GdImageFile.py -> build/lib.linux-x86_64-3.7/PIL\n",
      "  copying src/PIL/GifImagePlugin.py -> build/lib.linux-x86_64-3.7/PIL\n",
      "  copying src/PIL/GimpGradientFile.py -> build/lib.linux-x86_64-3.7/PIL\n",
      "  copying src/PIL/GimpPaletteFile.py -> build/lib.linux-x86_64-3.7/PIL\n",
      "  copying src/PIL/GribStubImagePlugin.py -> build/lib.linux-x86_64-3.7/PIL\n",
      "  copying src/PIL/Hdf5StubImagePlugin.py -> build/lib.linux-x86_64-3.7/PIL\n",
      "  copying src/PIL/IcnsImagePlugin.py -> build/lib.linux-x86_64-3.7/PIL\n",
      "  copying src/PIL/IcoImagePlugin.py -> build/lib.linux-x86_64-3.7/PIL\n",
      "  copying src/PIL/ImImagePlugin.py -> build/lib.linux-x86_64-3.7/PIL\n",
      "  copying src/PIL/Image.py -> build/lib.linux-x86_64-3.7/PIL\n",
      "  copying src/PIL/ImageChops.py -> build/lib.linux-x86_64-3.7/PIL\n",
      "  copying src/PIL/ImageCms.py -> build/lib.linux-x86_64-3.7/PIL\n",
      "  copying src/PIL/ImageColor.py -> build/lib.linux-x86_64-3.7/PIL\n",
      "  copying src/PIL/ImageDraw.py -> build/lib.linux-x86_64-3.7/PIL\n",
      "  copying src/PIL/ImageDraw2.py -> build/lib.linux-x86_64-3.7/PIL\n",
      "  copying src/PIL/ImageEnhance.py -> build/lib.linux-x86_64-3.7/PIL\n",
      "  copying src/PIL/ImageFile.py -> build/lib.linux-x86_64-3.7/PIL\n",
      "  copying src/PIL/ImageFilter.py -> build/lib.linux-x86_64-3.7/PIL\n",
      "  copying src/PIL/ImageFont.py -> build/lib.linux-x86_64-3.7/PIL\n",
      "  copying src/PIL/ImageGrab.py -> build/lib.linux-x86_64-3.7/PIL\n",
      "  copying src/PIL/ImageMath.py -> build/lib.linux-x86_64-3.7/PIL\n",
      "  copying src/PIL/ImageMode.py -> build/lib.linux-x86_64-3.7/PIL\n",
      "  copying src/PIL/ImageMorph.py -> build/lib.linux-x86_64-3.7/PIL\n",
      "  copying src/PIL/ImageOps.py -> build/lib.linux-x86_64-3.7/PIL\n",
      "  copying src/PIL/ImagePalette.py -> build/lib.linux-x86_64-3.7/PIL\n",
      "  copying src/PIL/ImagePath.py -> build/lib.linux-x86_64-3.7/PIL\n",
      "  copying src/PIL/ImageQt.py -> build/lib.linux-x86_64-3.7/PIL\n",
      "  copying src/PIL/ImageSequence.py -> build/lib.linux-x86_64-3.7/PIL\n",
      "  copying src/PIL/ImageShow.py -> build/lib.linux-x86_64-3.7/PIL\n",
      "  copying src/PIL/ImageStat.py -> build/lib.linux-x86_64-3.7/PIL\n",
      "  copying src/PIL/ImageTk.py -> build/lib.linux-x86_64-3.7/PIL\n",
      "  copying src/PIL/ImageTransform.py -> build/lib.linux-x86_64-3.7/PIL\n",
      "  copying src/PIL/ImageWin.py -> build/lib.linux-x86_64-3.7/PIL\n",
      "  copying src/PIL/ImtImagePlugin.py -> build/lib.linux-x86_64-3.7/PIL\n",
      "  copying src/PIL/IptcImagePlugin.py -> build/lib.linux-x86_64-3.7/PIL\n",
      "  copying src/PIL/Jpeg2KImagePlugin.py -> build/lib.linux-x86_64-3.7/PIL\n",
      "  copying src/PIL/JpegImagePlugin.py -> build/lib.linux-x86_64-3.7/PIL\n",
      "  copying src/PIL/JpegPresets.py -> build/lib.linux-x86_64-3.7/PIL\n",
      "  copying src/PIL/McIdasImagePlugin.py -> build/lib.linux-x86_64-3.7/PIL\n",
      "  copying src/PIL/MicImagePlugin.py -> build/lib.linux-x86_64-3.7/PIL\n",
      "  copying src/PIL/MpegImagePlugin.py -> build/lib.linux-x86_64-3.7/PIL\n",
      "  copying src/PIL/MpoImagePlugin.py -> build/lib.linux-x86_64-3.7/PIL\n",
      "  copying src/PIL/MspImagePlugin.py -> build/lib.linux-x86_64-3.7/PIL\n",
      "  copying src/PIL/PSDraw.py -> build/lib.linux-x86_64-3.7/PIL\n",
      "  copying src/PIL/PaletteFile.py -> build/lib.linux-x86_64-3.7/PIL\n",
      "  copying src/PIL/PalmImagePlugin.py -> build/lib.linux-x86_64-3.7/PIL\n",
      "  copying src/PIL/PcdImagePlugin.py -> build/lib.linux-x86_64-3.7/PIL\n",
      "  copying src/PIL/PcfFontFile.py -> build/lib.linux-x86_64-3.7/PIL\n",
      "  copying src/PIL/PcxImagePlugin.py -> build/lib.linux-x86_64-3.7/PIL\n",
      "  copying src/PIL/PdfImagePlugin.py -> build/lib.linux-x86_64-3.7/PIL\n",
      "  copying src/PIL/PdfParser.py -> build/lib.linux-x86_64-3.7/PIL\n",
      "  copying src/PIL/PixarImagePlugin.py -> build/lib.linux-x86_64-3.7/PIL\n",
      "  copying src/PIL/PngImagePlugin.py -> build/lib.linux-x86_64-3.7/PIL\n",
      "  copying src/PIL/PpmImagePlugin.py -> build/lib.linux-x86_64-3.7/PIL\n",
      "  copying src/PIL/PsdImagePlugin.py -> build/lib.linux-x86_64-3.7/PIL\n",
      "  copying src/PIL/PyAccess.py -> build/lib.linux-x86_64-3.7/PIL\n",
      "  copying src/PIL/SgiImagePlugin.py -> build/lib.linux-x86_64-3.7/PIL\n",
      "  copying src/PIL/SpiderImagePlugin.py -> build/lib.linux-x86_64-3.7/PIL\n",
      "  copying src/PIL/SunImagePlugin.py -> build/lib.linux-x86_64-3.7/PIL\n",
      "  copying src/PIL/TarIO.py -> build/lib.linux-x86_64-3.7/PIL\n",
      "  copying src/PIL/TgaImagePlugin.py -> build/lib.linux-x86_64-3.7/PIL\n",
      "  copying src/PIL/TiffImagePlugin.py -> build/lib.linux-x86_64-3.7/PIL\n",
      "  copying src/PIL/TiffTags.py -> build/lib.linux-x86_64-3.7/PIL\n",
      "  copying src/PIL/WalImageFile.py -> build/lib.linux-x86_64-3.7/PIL\n",
      "  copying src/PIL/WebPImagePlugin.py -> build/lib.linux-x86_64-3.7/PIL\n",
      "  copying src/PIL/WmfImagePlugin.py -> build/lib.linux-x86_64-3.7/PIL\n",
      "  copying src/PIL/XVThumbImagePlugin.py -> build/lib.linux-x86_64-3.7/PIL\n",
      "  copying src/PIL/XbmImagePlugin.py -> build/lib.linux-x86_64-3.7/PIL\n",
      "  copying src/PIL/XpmImagePlugin.py -> build/lib.linux-x86_64-3.7/PIL\n",
      "  copying src/PIL/__init__.py -> build/lib.linux-x86_64-3.7/PIL\n",
      "  copying src/PIL/__main__.py -> build/lib.linux-x86_64-3.7/PIL\n",
      "  copying src/PIL/_binary.py -> build/lib.linux-x86_64-3.7/PIL\n",
      "  copying src/PIL/_tkinter_finder.py -> build/lib.linux-x86_64-3.7/PIL\n",
      "  copying src/PIL/_util.py -> build/lib.linux-x86_64-3.7/PIL\n",
      "  copying src/PIL/_version.py -> build/lib.linux-x86_64-3.7/PIL\n",
      "  copying src/PIL/features.py -> build/lib.linux-x86_64-3.7/PIL\n",
      "  running egg_info\n",
      "  writing src/Pillow.egg-info/PKG-INFO\n",
      "  writing dependency_links to src/Pillow.egg-info/dependency_links.txt\n",
      "  writing top-level names to src/Pillow.egg-info/top_level.txt\n",
      "  warning: manifest_maker: standard file '-c' not found\n",
      "  \n",
      "  reading manifest file 'src/Pillow.egg-info/SOURCES.txt'\n",
      "  reading manifest template 'MANIFEST.in'\n",
      "  warning: no files found matching '*.c'\n",
      "  warning: no files found matching '*.h'\n",
      "  warning: no files found matching '*.sh'\n",
      "  warning: no previously-included files found matching '.appveyor.yml'\n",
      "  warning: no previously-included files found matching '.clang-format'\n",
      "  warning: no previously-included files found matching '.coveragerc'\n",
      "  warning: no previously-included files found matching '.editorconfig'\n",
      "  warning: no previously-included files found matching '.readthedocs.yml'\n",
      "  warning: no previously-included files found matching 'codecov.yml'\n",
      "  warning: no previously-included files matching '.git*' found anywhere in distribution\n",
      "  warning: no previously-included files matching '*.pyc' found anywhere in distribution\n",
      "  warning: no previously-included files matching '*.so' found anywhere in distribution\n",
      "  no previously-included directories found matching '.ci'\n",
      "  writing manifest file 'src/Pillow.egg-info/SOURCES.txt'\n",
      "  running build_ext\n",
      "  \n",
      "  \n",
      "  The headers or library files could not be found for jpeg,\n",
      "  a required dependency when compiling Pillow from source.\n",
      "  \n",
      "  Please see the install instructions at:\n",
      "     https://pillow.readthedocs.io/en/latest/installation.html\n",
      "  \n",
      "  Traceback (most recent call last):\n",
      "    File \"/mnt/tmp/pip-build-aabswi7e/pillow/setup.py\", line 1024, in <module>\n",
      "      zip_safe=not (debug_build() or PLATFORM_MINGW),\n",
      "    File \"/usr/lib64/python3.7/distutils/core.py\", line 148, in setup\n",
      "      dist.run_commands()\n",
      "    File \"/usr/lib64/python3.7/distutils/dist.py\", line 966, in run_commands\n",
      "      self.run_command(cmd)\n",
      "    File \"/usr/lib64/python3.7/distutils/dist.py\", line 985, in run_command\n",
      "      cmd_obj.run()\n",
      "    File \"/tmp/1638463975745-0/lib/python3.7/site-packages/wheel/bdist_wheel.py\", line 179, in run\n",
      "      self.run_command('build')\n",
      "    File \"/usr/lib64/python3.7/distutils/cmd.py\", line 313, in run_command\n",
      "      self.distribution.run_command(command)\n",
      "    File \"/usr/lib64/python3.7/distutils/dist.py\", line 985, in run_command\n",
      "      cmd_obj.run()\n",
      "    File \"/usr/lib64/python3.7/distutils/command/build.py\", line 135, in run\n",
      "      self.run_command(cmd_name)\n",
      "    File \"/usr/lib64/python3.7/distutils/cmd.py\", line 313, in run_command\n",
      "      self.distribution.run_command(command)\n",
      "    File \"/usr/lib64/python3.7/distutils/dist.py\", line 985, in run_command\n",
      "      cmd_obj.run()\n",
      "    File \"/tmp/1638463975745-0/lib/python3.7/site-packages/setuptools/command/build_ext.py\", line 75, in run\n",
      "      _build_ext.run(self)\n",
      "    File \"/usr/lib64/python3.7/distutils/command/build_ext.py\", line 340, in run\n",
      "      self.build_extensions()\n",
      "    File \"/mnt/tmp/pip-build-aabswi7e/pillow/setup.py\", line 790, in build_extensions\n",
      "      raise RequiredDependencyException(f)\n",
      "  __main__.RequiredDependencyException: jpeg\n",
      "  \n",
      "  During handling of the above exception, another exception occurred:\n",
      "  \n",
      "  Traceback (most recent call last):\n",
      "    File \"<string>\", line 1, in <module>\n",
      "    File \"/mnt/tmp/pip-build-aabswi7e/pillow/setup.py\", line 1037, in <module>\n",
      "      raise RequiredDependencyException(msg)\n",
      "  __main__.RequiredDependencyException:\n",
      "  \n",
      "  The headers or library files could not be found for jpeg,\n",
      "  a required dependency when compiling Pillow from source.\n",
      "  \n",
      "  Please see the install instructions at:\n",
      "     https://pillow.readthedocs.io/en/latest/installation.html\n",
      "  \n",
      "  \n",
      "  \n",
      "  ----------------------------------------\n",
      "  Running setup.py clean for pillow\n",
      "  Running setup.py bdist_wheel for numpy: started\n",
      "  Running setup.py bdist_wheel for numpy: finished with status 'error'\n",
      "  Complete output from command /tmp/1638463975745-0/bin/python -u -c \"import setuptools, tokenize;__file__='/mnt/tmp/pip-build-aabswi7e/numpy/setup.py';f=getattr(tokenize, 'open', open)(__file__);code=f.read().replace('\\r\\n', '\\n');f.close();exec(compile(code, __file__, 'exec'))\" bdist_wheel -d /tmp/tmp1nh_k3otpip-wheel- --python-tag cp37:\n",
      "  Running from numpy source directory.\n",
      "  Cythonizing sources\n",
      "  Processing numpy/random/_bounded_integers.pxd.in\n",
      "  Processing numpy/random/_mt19937.pyx\n",
      "  Traceback (most recent call last):\n",
      "    File \"/mnt/tmp/pip-build-aabswi7e/numpy/tools/cythonize.py\", line 59, in process_pyx\n",
      "      import Cython\n",
      "  ModuleNotFoundError: No module named 'Cython'\n",
      "  \n",
      "  The above exception was the direct cause of the following exception:\n",
      "  \n",
      "  Traceback (most recent call last):\n",
      "    File \"/mnt/tmp/pip-build-aabswi7e/numpy/tools/cythonize.py\", line 240, in <module>\n",
      "      main()\n",
      "    File \"/mnt/tmp/pip-build-aabswi7e/numpy/tools/cythonize.py\", line 236, in main\n",
      "      find_process_files(root_dir)\n",
      "    File \"/mnt/tmp/pip-build-aabswi7e/numpy/tools/cythonize.py\", line 227, in find_process_files\n",
      "      process(root_dir, fromfile, tofile, function, hash_db)\n",
      "    File \"/mnt/tmp/pip-build-aabswi7e/numpy/tools/cythonize.py\", line 193, in process\n",
      "      processor_function(fromfile, tofile)\n",
      "    File \"/mnt/tmp/pip-build-aabswi7e/numpy/tools/cythonize.py\", line 66, in process_pyx\n",
      "      raise OSError(msg) from e\n",
      "  OSError: Cython needs to be installed in Python as a module\n",
      "  Traceback (most recent call last):\n",
      "    File \"<string>\", line 1, in <module>\n",
      "    File \"/mnt/tmp/pip-build-aabswi7e/numpy/setup.py\", line 448, in <module>\n",
      "      setup_package()\n",
      "    File \"/mnt/tmp/pip-build-aabswi7e/numpy/setup.py\", line 430, in setup_package\n",
      "      generate_cython()\n",
      "    File \"/mnt/tmp/pip-build-aabswi7e/numpy/setup.py\", line 236, in generate_cython\n",
      "      raise RuntimeError(\"Running cythonize failed!\")\n",
      "  RuntimeError: Running cythonize failed!\n",
      "  \n",
      "  ----------------------------------------\n",
      "  Running setup.py clean for numpy\n",
      "  Complete output from command /tmp/1638463975745-0/bin/python -u -c \"import setuptools, tokenize;__file__='/mnt/tmp/pip-build-aabswi7e/numpy/setup.py';f=getattr(tokenize, 'open', open)(__file__);code=f.read().replace('\\r\\n', '\\n');f.close();exec(compile(code, __file__, 'exec'))\" clean --all:\n",
      "  Running from numpy source directory.\n",
      "  \n",
      "  `setup.py clean` is not supported, use one of the following instead:\n",
      "  \n",
      "    - `git clean -xdf` (cleans all files)\n",
      "    - `git clean -Xdf` (cleans all versioned files, doesn't touch\n",
      "                        files that aren't checked into the git repo)\n",
      "  \n",
      "  Add `--force` to your command to use it anyway if you must (unsupported).\n",
      "  \n",
      "  \n",
      "  ----------------------------------------\n",
      "Failed to build pillow numpy\n",
      "Installing collected packages: pyparsing, packaging, pillow, cycler, fonttools, tomli, setuptools-scm, kiwisolver, numpy, matplotlib\n",
      "  Running setup.py install for pillow: started\n",
      "    Running setup.py install for pillow: finished with status 'error'\n",
      "    Complete output from command /tmp/1638463975745-0/bin/python -u -c \"import setuptools, tokenize;__file__='/mnt/tmp/pip-build-aabswi7e/pillow/setup.py';f=getattr(tokenize, 'open', open)(__file__);code=f.read().replace('\\r\\n', '\\n');f.close();exec(compile(code, __file__, 'exec'))\" install --record /tmp/pip-u_azgbmk-record/install-record.txt --single-version-externally-managed --compile --install-headers /tmp/1638463975745-0/include/site/python3.7/pillow:\n",
      "    /usr/lib64/python3.7/distutils/dist.py:274: UserWarning: Unknown distribution option: 'long_description_content_type'\n",
      "      warnings.warn(msg)\n",
      "    /usr/lib64/python3.7/distutils/dist.py:274: UserWarning: Unknown distribution option: 'project_urls'\n",
      "      warnings.warn(msg)\n",
      "    running install\n",
      "    running build\n",
      "    running build_py\n",
      "    creating build\n",
      "    creating build/lib.linux-x86_64-3.7\n",
      "    creating build/lib.linux-x86_64-3.7/PIL\n",
      "    copying src/PIL/BdfFontFile.py -> build/lib.linux-x86_64-3.7/PIL\n",
      "    copying src/PIL/BlpImagePlugin.py -> build/lib.linux-x86_64-3.7/PIL\n",
      "    copying src/PIL/BmpImagePlugin.py -> build/lib.linux-x86_64-3.7/PIL\n",
      "    copying src/PIL/BufrStubImagePlugin.py -> build/lib.linux-x86_64-3.7/PIL\n",
      "    copying src/PIL/ContainerIO.py -> build/lib.linux-x86_64-3.7/PIL\n",
      "    copying src/PIL/CurImagePlugin.py -> build/lib.linux-x86_64-3.7/PIL\n",
      "    copying src/PIL/DcxImagePlugin.py -> build/lib.linux-x86_64-3.7/PIL\n",
      "    copying src/PIL/DdsImagePlugin.py -> build/lib.linux-x86_64-3.7/PIL\n",
      "    copying src/PIL/EpsImagePlugin.py -> build/lib.linux-x86_64-3.7/PIL\n",
      "    copying src/PIL/ExifTags.py -> build/lib.linux-x86_64-3.7/PIL\n",
      "    copying src/PIL/FitsStubImagePlugin.py -> build/lib.linux-x86_64-3.7/PIL\n",
      "    copying src/PIL/FliImagePlugin.py -> build/lib.linux-x86_64-3.7/PIL\n",
      "    copying src/PIL/FontFile.py -> build/lib.linux-x86_64-3.7/PIL\n",
      "    copying src/PIL/FpxImagePlugin.py -> build/lib.linux-x86_64-3.7/PIL\n",
      "    copying src/PIL/FtexImagePlugin.py -> build/lib.linux-x86_64-3.7/PIL\n",
      "    copying src/PIL/GbrImagePlugin.py -> build/lib.linux-x86_64-3.7/PIL\n",
      "    copying src/PIL/GdImageFile.py -> build/lib.linux-x86_64-3.7/PIL\n",
      "    copying src/PIL/GifImagePlugin.py -> build/lib.linux-x86_64-3.7/PIL\n",
      "    copying src/PIL/GimpGradientFile.py -> build/lib.linux-x86_64-3.7/PIL\n",
      "    copying src/PIL/GimpPaletteFile.py -> build/lib.linux-x86_64-3.7/PIL\n",
      "    copying src/PIL/GribStubImagePlugin.py -> build/lib.linux-x86_64-3.7/PIL\n",
      "    copying src/PIL/Hdf5StubImagePlugin.py -> build/lib.linux-x86_64-3.7/PIL\n",
      "    copying src/PIL/IcnsImagePlugin.py -> build/lib.linux-x86_64-3.7/PIL\n",
      "    copying src/PIL/IcoImagePlugin.py -> build/lib.linux-x86_64-3.7/PIL\n",
      "    copying src/PIL/ImImagePlugin.py -> build/lib.linux-x86_64-3.7/PIL\n",
      "    copying src/PIL/Image.py -> build/lib.linux-x86_64-3.7/PIL\n",
      "    copying src/PIL/ImageChops.py -> build/lib.linux-x86_64-3.7/PIL\n",
      "    copying src/PIL/ImageCms.py -> build/lib.linux-x86_64-3.7/PIL\n",
      "    copying src/PIL/ImageColor.py -> build/lib.linux-x86_64-3.7/PIL\n",
      "    copying src/PIL/ImageDraw.py -> build/lib.linux-x86_64-3.7/PIL\n",
      "    copying src/PIL/ImageDraw2.py -> build/lib.linux-x86_64-3.7/PIL\n",
      "    copying src/PIL/ImageEnhance.py -> build/lib.linux-x86_64-3.7/PIL\n",
      "    copying src/PIL/ImageFile.py -> build/lib.linux-x86_64-3.7/PIL\n",
      "    copying src/PIL/ImageFilter.py -> build/lib.linux-x86_64-3.7/PIL\n",
      "    copying src/PIL/ImageFont.py -> build/lib.linux-x86_64-3.7/PIL\n",
      "    copying src/PIL/ImageGrab.py -> build/lib.linux-x86_64-3.7/PIL\n",
      "    copying src/PIL/ImageMath.py -> build/lib.linux-x86_64-3.7/PIL\n",
      "    copying src/PIL/ImageMode.py -> build/lib.linux-x86_64-3.7/PIL\n",
      "    copying src/PIL/ImageMorph.py -> build/lib.linux-x86_64-3.7/PIL\n",
      "    copying src/PIL/ImageOps.py -> build/lib.linux-x86_64-3.7/PIL\n",
      "    copying src/PIL/ImagePalette.py -> build/lib.linux-x86_64-3.7/PIL\n",
      "    copying src/PIL/ImagePath.py -> build/lib.linux-x86_64-3.7/PIL\n",
      "    copying src/PIL/ImageQt.py -> build/lib.linux-x86_64-3.7/PIL\n",
      "    copying src/PIL/ImageSequence.py -> build/lib.linux-x86_64-3.7/PIL\n",
      "    copying src/PIL/ImageShow.py -> build/lib.linux-x86_64-3.7/PIL\n",
      "    copying src/PIL/ImageStat.py -> build/lib.linux-x86_64-3.7/PIL\n",
      "    copying src/PIL/ImageTk.py -> build/lib.linux-x86_64-3.7/PIL\n",
      "    copying src/PIL/ImageTransform.py -> build/lib.linux-x86_64-3.7/PIL\n",
      "    copying src/PIL/ImageWin.py -> build/lib.linux-x86_64-3.7/PIL\n",
      "    copying src/PIL/ImtImagePlugin.py -> build/lib.linux-x86_64-3.7/PIL\n",
      "    copying src/PIL/IptcImagePlugin.py -> build/lib.linux-x86_64-3.7/PIL\n",
      "    copying src/PIL/Jpeg2KImagePlugin.py -> build/lib.linux-x86_64-3.7/PIL\n",
      "    copying src/PIL/JpegImagePlugin.py -> build/lib.linux-x86_64-3.7/PIL\n",
      "    copying src/PIL/JpegPresets.py -> build/lib.linux-x86_64-3.7/PIL\n",
      "    copying src/PIL/McIdasImagePlugin.py -> build/lib.linux-x86_64-3.7/PIL\n",
      "    copying src/PIL/MicImagePlugin.py -> build/lib.linux-x86_64-3.7/PIL\n",
      "    copying src/PIL/MpegImagePlugin.py -> build/lib.linux-x86_64-3.7/PIL\n",
      "    copying src/PIL/MpoImagePlugin.py -> build/lib.linux-x86_64-3.7/PIL\n",
      "    copying src/PIL/MspImagePlugin.py -> build/lib.linux-x86_64-3.7/PIL\n",
      "    copying src/PIL/PSDraw.py -> build/lib.linux-x86_64-3.7/PIL\n",
      "    copying src/PIL/PaletteFile.py -> build/lib.linux-x86_64-3.7/PIL\n",
      "    copying src/PIL/PalmImagePlugin.py -> build/lib.linux-x86_64-3.7/PIL\n",
      "    copying src/PIL/PcdImagePlugin.py -> build/lib.linux-x86_64-3.7/PIL\n",
      "    copying src/PIL/PcfFontFile.py -> build/lib.linux-x86_64-3.7/PIL\n",
      "    copying src/PIL/PcxImagePlugin.py -> build/lib.linux-x86_64-3.7/PIL\n",
      "    copying src/PIL/PdfImagePlugin.py -> build/lib.linux-x86_64-3.7/PIL\n",
      "    copying src/PIL/PdfParser.py -> build/lib.linux-x86_64-3.7/PIL\n",
      "    copying src/PIL/PixarImagePlugin.py -> build/lib.linux-x86_64-3.7/PIL\n",
      "    copying src/PIL/PngImagePlugin.py -> build/lib.linux-x86_64-3.7/PIL\n",
      "    copying src/PIL/PpmImagePlugin.py -> build/lib.linux-x86_64-3.7/PIL\n",
      "    copying src/PIL/PsdImagePlugin.py -> build/lib.linux-x86_64-3.7/PIL\n",
      "    copying src/PIL/PyAccess.py -> build/lib.linux-x86_64-3.7/PIL\n",
      "    copying src/PIL/SgiImagePlugin.py -> build/lib.linux-x86_64-3.7/PIL\n",
      "    copying src/PIL/SpiderImagePlugin.py -> build/lib.linux-x86_64-3.7/PIL\n",
      "    copying src/PIL/SunImagePlugin.py -> build/lib.linux-x86_64-3.7/PIL\n",
      "    copying src/PIL/TarIO.py -> build/lib.linux-x86_64-3.7/PIL\n",
      "    copying src/PIL/TgaImagePlugin.py -> build/lib.linux-x86_64-3.7/PIL\n",
      "    copying src/PIL/TiffImagePlugin.py -> build/lib.linux-x86_64-3.7/PIL\n",
      "    copying src/PIL/TiffTags.py -> build/lib.linux-x86_64-3.7/PIL\n",
      "    copying src/PIL/WalImageFile.py -> build/lib.linux-x86_64-3.7/PIL\n",
      "    copying src/PIL/WebPImagePlugin.py -> build/lib.linux-x86_64-3.7/PIL\n",
      "    copying src/PIL/WmfImagePlugin.py -> build/lib.linux-x86_64-3.7/PIL\n",
      "    copying src/PIL/XVThumbImagePlugin.py -> build/lib.linux-x86_64-3.7/PIL\n",
      "    copying src/PIL/XbmImagePlugin.py -> build/lib.linux-x86_64-3.7/PIL\n",
      "    copying src/PIL/XpmImagePlugin.py -> build/lib.linux-x86_64-3.7/PIL\n",
      "    copying src/PIL/__init__.py -> build/lib.linux-x86_64-3.7/PIL\n",
      "    copying src/PIL/__main__.py -> build/lib.linux-x86_64-3.7/PIL\n",
      "    copying src/PIL/_binary.py -> build/lib.linux-x86_64-3.7/PIL\n",
      "    copying src/PIL/_tkinter_finder.py -> build/lib.linux-x86_64-3.7/PIL\n",
      "    copying src/PIL/_util.py -> build/lib.linux-x86_64-3.7/PIL\n",
      "    copying src/PIL/_version.py -> build/lib.linux-x86_64-3.7/PIL\n",
      "    copying src/PIL/features.py -> build/lib.linux-x86_64-3.7/PIL\n",
      "    running egg_info\n",
      "    writing src/Pillow.egg-info/PKG-INFO\n",
      "    writing dependency_links to src/Pillow.egg-info/dependency_links.txt\n",
      "    writing top-level names to src/Pillow.egg-info/top_level.txt\n",
      "    warning: manifest_maker: standard file '-c' not found\n",
      "    \n",
      "    reading manifest file 'src/Pillow.egg-info/SOURCES.txt'\n",
      "    reading manifest template 'MANIFEST.in'\n",
      "    warning: no files found matching '*.c'\n",
      "    warning: no files found matching '*.h'\n",
      "    warning: no files found matching '*.sh'\n",
      "    warning: no previously-included files found matching '.appveyor.yml'\n",
      "    warning: no previously-included files found matching '.clang-format'\n",
      "    warning: no previously-included files found matching '.coveragerc'\n",
      "    warning: no previously-included files found matching '.editorconfig'\n",
      "    warning: no previously-included files found matching '.readthedocs.yml'\n",
      "    warning: no previously-included files found matching 'codecov.yml'\n",
      "    warning: no previously-included files matching '.git*' found anywhere in distribution\n",
      "    warning: no previously-included files matching '*.pyc' found anywhere in distribution\n",
      "    warning: no previously-included files matching '*.so' found anywhere in distribution\n",
      "    no previously-included directories found matching '.ci'\n",
      "    writing manifest file 'src/Pillow.egg-info/SOURCES.txt'\n",
      "    running build_ext\n",
      "    \n",
      "    \n",
      "    The headers or library files could not be found for jpeg,\n",
      "    a required dependency when compiling Pillow from source.\n",
      "    \n",
      "    Please see the install instructions at:\n",
      "       https://pillow.readthedocs.io/en/latest/installation.html\n",
      "    \n",
      "    Traceback (most recent call last):\n",
      "      File \"/mnt/tmp/pip-build-aabswi7e/pillow/setup.py\", line 1024, in <module>\n",
      "        zip_safe=not (debug_build() or PLATFORM_MINGW),\n",
      "      File \"/usr/lib64/python3.7/distutils/core.py\", line 148, in setup\n",
      "        dist.run_commands()\n",
      "      File \"/usr/lib64/python3.7/distutils/dist.py\", line 966, in run_commands\n",
      "        self.run_command(cmd)\n",
      "      File \"/usr/lib64/python3.7/distutils/dist.py\", line 985, in run_command\n",
      "        cmd_obj.run()\n",
      "      File \"/tmp/1638463975745-0/lib/python3.7/site-packages/setuptools/command/install.py\", line 61, in run\n",
      "        return orig.install.run(self)\n",
      "      File \"/usr/lib64/python3.7/distutils/command/install.py\", line 556, in run\n",
      "        self.run_command('build')\n",
      "      File \"/usr/lib64/python3.7/distutils/cmd.py\", line 313, in run_command\n",
      "        self.distribution.run_command(command)\n",
      "      File \"/usr/lib64/python3.7/distutils/dist.py\", line 985, in run_command\n",
      "        cmd_obj.run()\n",
      "      File \"/usr/lib64/python3.7/distutils/command/build.py\", line 135, in run\n",
      "        self.run_command(cmd_name)\n",
      "      File \"/usr/lib64/python3.7/distutils/cmd.py\", line 313, in run_command\n",
      "        self.distribution.run_command(command)\n",
      "      File \"/usr/lib64/python3.7/distutils/dist.py\", line 985, in run_command\n",
      "        cmd_obj.run()\n",
      "      File \"/tmp/1638463975745-0/lib/python3.7/site-packages/setuptools/command/build_ext.py\", line 75, in run\n",
      "        _build_ext.run(self)\n",
      "      File \"/usr/lib64/python3.7/distutils/command/build_ext.py\", line 340, in run\n",
      "        self.build_extensions()\n",
      "      File \"/mnt/tmp/pip-build-aabswi7e/pillow/setup.py\", line 790, in build_extensions\n",
      "        raise RequiredDependencyException(f)\n",
      "    __main__.RequiredDependencyException: jpeg\n",
      "    \n",
      "    During handling of the above exception, another exception occurred:\n",
      "    \n",
      "    Traceback (most recent call last):\n",
      "      File \"<string>\", line 1, in <module>\n",
      "      File \"/mnt/tmp/pip-build-aabswi7e/pillow/setup.py\", line 1037, in <module>\n",
      "        raise RequiredDependencyException(msg)\n",
      "    __main__.RequiredDependencyException:\n",
      "    \n",
      "    The headers or library files could not be found for jpeg,\n",
      "    a required dependency when compiling Pillow from source.\n",
      "    \n",
      "    Please see the install instructions at:\n",
      "       https://pillow.readthedocs.io/en/latest/installation.html\n",
      "    \n",
      "    \n",
      "    \n",
      "    ----------------------------------------\n",
      "\n",
      "Collecting matplotlib==3.2.1\n",
      "  Downloading https://files.pythonhosted.org/packages/b2/c2/71fcf957710f3ba1f09088b35776a799ba7dd95f7c2b195ec800933b276b/matplotlib-3.2.1-cp37-cp37m-manylinux1_x86_64.whl (12.4MB)\n",
      "Requirement already satisfied: python-dateutil>=2.1 in /mnt/tmp/1638463975745-0/lib/python3.7/site-packages (from matplotlib==3.2.1)\n",
      "Requirement already satisfied: pyparsing!=2.0.4,!=2.1.2,!=2.1.6,>=2.0.1 in /mnt/tmp/1638463975745-0/lib/python3.7/site-packages (from matplotlib==3.2.1)\n",
      "Collecting cycler>=0.10 (from matplotlib==3.2.1)\n",
      "  Using cached https://files.pythonhosted.org/packages/5c/f9/695d6bedebd747e5eb0fe8fad57b72fdf25411273a39791cde838d5a8f51/cycler-0.11.0-py3-none-any.whl\n",
      "Requirement already satisfied: numpy>=1.11 in /usr/local/lib64/python3.7/site-packages (from matplotlib==3.2.1)\n",
      "Collecting kiwisolver>=1.0.1 (from matplotlib==3.2.1)\n",
      "  Using cached https://files.pythonhosted.org/packages/09/6b/6e567cb2e86d4e5939a9233f8734e26021b6a9c1bc4b1edccba236a84cc2/kiwisolver-1.3.2-cp37-cp37m-manylinux_2_5_x86_64.manylinux1_x86_64.whl\n",
      "Requirement already satisfied: six>=1.5 in /usr/local/lib/python3.7/site-packages (from python-dateutil>=2.1->matplotlib==3.2.1)\n",
      "Installing collected packages: cycler, kiwisolver, matplotlib\n",
      "Successfully installed cycler-0.11.0 kiwisolver-1.3.2 matplotlib-3.2.1\n",
      "\n",
      "Collecting seaborn==0.10.0\n",
      "  Downloading https://files.pythonhosted.org/packages/70/bd/5e6bf595fe6ee0f257ae49336dd180768c1ed3d7c7155b2fdf894c1c808a/seaborn-0.10.0-py3-none-any.whl (215kB)\n",
      "Requirement already satisfied: pandas>=0.22.0 in /mnt/tmp/1638463975745-0/lib/python3.7/site-packages (from seaborn==0.10.0)\n",
      "Requirement already satisfied: numpy>=1.13.3 in /usr/local/lib64/python3.7/site-packages (from seaborn==0.10.0)\n",
      "Collecting scipy>=1.0.1 (from seaborn==0.10.0)\n",
      "  Downloading https://files.pythonhosted.org/packages/61/67/1a654b96309c991762ee9bc39c363fc618076b155fe52d295211cf2536c7/scipy-1.7.3.tar.gz (36.1MB)\n",
      "Requirement already satisfied: matplotlib>=2.1.2 in /mnt/tmp/1638463975745-0/lib/python3.7/site-packages (from seaborn==0.10.0)\n",
      "Requirement already satisfied: pytz>=2017.2 in /usr/local/lib/python3.7/site-packages (from pandas>=0.22.0->seaborn==0.10.0)\n",
      "Requirement already satisfied: python-dateutil>=2.6.1 in /mnt/tmp/1638463975745-0/lib/python3.7/site-packages (from pandas>=0.22.0->seaborn==0.10.0)\n",
      "Requirement already satisfied: pyparsing!=2.0.4,!=2.1.2,!=2.1.6,>=2.0.1 in /mnt/tmp/1638463975745-0/lib/python3.7/site-packages (from matplotlib>=2.1.2->seaborn==0.10.0)\n",
      "Requirement already satisfied: cycler>=0.10 in /mnt/tmp/1638463975745-0/lib/python3.7/site-packages (from matplotlib>=2.1.2->seaborn==0.10.0)\n",
      "Requirement already satisfied: kiwisolver>=1.0.1 in /mnt/tmp/1638463975745-0/lib/python3.7/site-packages (from matplotlib>=2.1.2->seaborn==0.10.0)\n",
      "Requirement already satisfied: six>=1.5 in /usr/local/lib/python3.7/site-packages (from python-dateutil>=2.6.1->pandas>=0.22.0->seaborn==0.10.0)\n",
      "Building wheels for collected packages: scipy\n",
      "  Running setup.py bdist_wheel for scipy: started\n",
      "  Running setup.py bdist_wheel for scipy: finished with status 'error'\n",
      "  Complete output from command /tmp/1638463975745-0/bin/python -u -c \"import setuptools, tokenize;__file__='/mnt/tmp/pip-build-o9tjrt7z/scipy/setup.py';f=getattr(tokenize, 'open', open)(__file__);code=f.read().replace('\\r\\n', '\\n');f.close();exec(compile(code, __file__, 'exec'))\" bdist_wheel -d /tmp/tmpv43vfvvppip-wheel- --python-tag cp37:\n",
      "  Error: 'pybind11' must be installed before running the build.\n",
      "  \n",
      "  \n",
      "  ----------------------------------------\n",
      "  Running setup.py clean for scipy\n",
      "  Complete output from command /tmp/1638463975745-0/bin/python -u -c \"import setuptools, tokenize;__file__='/mnt/tmp/pip-build-o9tjrt7z/scipy/setup.py';f=getattr(tokenize, 'open', open)(__file__);code=f.read().replace('\\r\\n', '\\n');f.close();exec(compile(code, __file__, 'exec'))\" clean --all:\n",
      "  \n",
      "  `setup.py clean` is not supported, use one of the following instead:\n",
      "  \n",
      "    - `git clean -xdf` (cleans all files)\n",
      "    - `git clean -Xdf` (cleans all versioned files, doesn't touch\n",
      "                        files that aren't checked into the git repo)\n",
      "  \n",
      "  Add `--force` to your command to use it anyway if you must (unsupported).\n",
      "  \n",
      "  \n",
      "  ----------------------------------------\n",
      "Failed to build scipy\n",
      "Installing collected packages: scipy, seaborn\n",
      "  Running setup.py install for scipy: started\n",
      "    Running setup.py install for scipy: finished with status 'error'\n",
      "    Complete output from command /tmp/1638463975745-0/bin/python -u -c \"import setuptools, tokenize;__file__='/mnt/tmp/pip-build-o9tjrt7z/scipy/setup.py';f=getattr(tokenize, 'open', open)(__file__);code=f.read().replace('\\r\\n', '\\n');f.close();exec(compile(code, __file__, 'exec'))\" install --record /tmp/pip-7aanzk_r-record/install-record.txt --single-version-externally-managed --compile --install-headers /tmp/1638463975745-0/include/site/python3.7/scipy:\n",
      "    \n",
      "    Note: for reliable uninstall behaviour and dependency installation\n",
      "    and uninstallation, please use pip instead of using\n",
      "    `setup.py install`:\n",
      "    \n",
      "      - `pip install .`       (from a git repo or downloaded source\n",
      "                               release)\n",
      "      - `pip install scipy`   (last SciPy release on PyPI)\n",
      "    \n",
      "    \n",
      "    Error: 'pybind11' must be installed before running the build.\n",
      "    \n",
      "    \n",
      "    ----------------------------------------\n",
      "\n",
      "\n",
      "\n",
      "  Failed building wheel for pillow\n",
      "  Failed building wheel for numpy\n",
      "  Failed cleaning build dir for numpy\n",
      "Command \"/tmp/1638463975745-0/bin/python -u -c \"import setuptools, tokenize;__file__='/mnt/tmp/pip-build-aabswi7e/pillow/setup.py';f=getattr(tokenize, 'open', open)(__file__);code=f.read().replace('\\r\\n', '\\n');f.close();exec(compile(code, __file__, 'exec'))\" install --record /tmp/pip-u_azgbmk-record/install-record.txt --single-version-externally-managed --compile --install-headers /tmp/1638463975745-0/include/site/python3.7/pillow\" failed with error code 1 in /mnt/tmp/pip-build-aabswi7e/pillow/\n",
      "\n",
      "\n",
      "  Failed building wheel for scipy\n",
      "  Failed cleaning build dir for scipy\n",
      "Command \"/tmp/1638463975745-0/bin/python -u -c \"import setuptools, tokenize;__file__='/mnt/tmp/pip-build-o9tjrt7z/scipy/setup.py';f=getattr(tokenize, 'open', open)(__file__);code=f.read().replace('\\r\\n', '\\n');f.close();exec(compile(code, __file__, 'exec'))\" install --record /tmp/pip-7aanzk_r-record/install-record.txt --single-version-externally-managed --compile --install-headers /tmp/1638463975745-0/include/site/python3.7/scipy\" failed with error code 1 in /mnt/tmp/pip-build-o9tjrt7z/scipy/"
     ]
    }
   ],
   "source": [
    "#line1\n",
    "sc.install_pypi_package(\"pandas==1.0.3\")\n",
    "sc.install_pypi_package(\"numpy\")\n",
    "sc.install_pypi_package(\"matplotlib\")\n",
    "sc.install_pypi_package(\"matplotlib==3.2.1\")\n",
    "sc.install_pypi_package(\"seaborn==0.10.0\")"
   ]
  },
  {
   "cell_type": "code",
   "execution_count": 2,
   "id": "f6ab6cc4",
   "metadata": {},
   "outputs": [
    {
     "data": {
      "application/vnd.jupyter.widget-view+json": {
       "model_id": "457caa38ba8f46918cc15ae8ce0c6611",
       "version_major": 2,
       "version_minor": 0
      },
      "text/plain": [
       "VBox()"
      ]
     },
     "metadata": {},
     "output_type": "display_data"
    },
    {
     "data": {
      "application/vnd.jupyter.widget-view+json": {
       "model_id": "",
       "version_major": 2,
       "version_minor": 0
      },
      "text/plain": [
       "FloatProgress(value=0.0, bar_style='info', description='Progress:', layout=Layout(height='25px', width='50%'),…"
      ]
     },
     "metadata": {},
     "output_type": "display_data"
    },
    {
     "name": "stderr",
     "output_type": "stream",
     "text": [
      "unknown magic command 'matplotlib'\n",
      "UnknownMagic: unknown magic command 'matplotlib'\n",
      "\n"
     ]
    }
   ],
   "source": [
    "#line 2\n",
    "from pyspark.sql.types import StructType,StructField, StringType, IntegerType, ArrayType\n",
    "from pyspark.sql.functions import approx_count_distinct\n",
    "from pyspark.sql.functions import avg\n",
    "from pyspark.sql.functions import collect_set\n",
    "from pyspark.sql.functions import countDistinct\n",
    "from pyspark.sql.functions import count\n",
    "from pyspark.sql.functions import first, last, max, min\n",
    "from pyspark.sql.functions import col\n",
    "from pyspark.sql.functions import array_contains\n",
    "from pyspark.sql.functions import mean, count, sum, col\n",
    "from pyspark.sql.functions import udf\n",
    "from pyspark.sql.types import StringType\n",
    "from pyspark.sql.functions import explode, split\n",
    "import pandas as pd\n",
    "import numpy as np\n",
    "\n",
    "import matplotlib\n",
    "import matplotlib.pyplot as plt\n",
    "%matplotlib inline "
   ]
  },
  {
   "cell_type": "code",
   "execution_count": 3,
   "id": "4ef41c53",
   "metadata": {},
   "outputs": [
    {
     "data": {
      "application/vnd.jupyter.widget-view+json": {
       "model_id": "c6e2f4970ae241c3beb39be35afae211",
       "version_major": 2,
       "version_minor": 0
      },
      "text/plain": [
       "VBox()"
      ]
     },
     "metadata": {},
     "output_type": "display_data"
    },
    {
     "data": {
      "application/vnd.jupyter.widget-view+json": {
       "model_id": "",
       "version_major": 2,
       "version_minor": 0
      },
      "text/plain": [
       "FloatProgress(value=0.0, bar_style='info', description='Progress:', layout=Layout(height='25px', width='50%'),…"
      ]
     },
     "metadata": {},
     "output_type": "display_data"
    }
   ],
   "source": [
    "#line 3 和4?\n",
    "business = spark.read.json('s3://9760project2/project2_yelp/yelp_academic_dataset_business.json')\n",
    "tip = spark.read.json('s3://9760project2/project2_yelp/yelp_academic_dataset_tip.json')\n",
    "user = spark.read.json('s3://9760project2/project2_yelp/yelp_academic_dataset_user.json')\n",
    "checkin= spark.read.json('s3://9760project2/project2_yelp/yelp_academic_dataset_checkin.json')\n",
    "review = spark.read.json('s3://9760project2/project2_yelp/yelp_academic_dataset_review.json')\n"
   ]
  },
  {
   "cell_type": "code",
   "execution_count": 4,
   "id": "e6e1ebee",
   "metadata": {},
   "outputs": [
    {
     "data": {
      "application/vnd.jupyter.widget-view+json": {
       "model_id": "b2df254d6c4245898ac87856cc38d396",
       "version_major": 2,
       "version_minor": 0
      },
      "text/plain": [
       "VBox()"
      ]
     },
     "metadata": {},
     "output_type": "display_data"
    },
    {
     "data": {
      "application/vnd.jupyter.widget-view+json": {
       "model_id": "",
       "version_major": 2,
       "version_minor": 0
      },
      "text/plain": [
       "FloatProgress(value=0.0, bar_style='info', description='Progress:', layout=Layout(height='25px', width='50%'),…"
      ]
     },
     "metadata": {},
     "output_type": "display_data"
    },
    {
     "name": "stdout",
     "output_type": "stream",
     "text": [
      "160585\n",
      "14"
     ]
    }
   ],
   "source": [
    "#line5\n",
    "rows=business.count()\n",
    "print(rows)\n",
    "columns = len(business.columns)\n",
    "print(columns)"
   ]
  },
  {
   "cell_type": "code",
   "execution_count": 5,
   "id": "09bb400a",
   "metadata": {},
   "outputs": [
    {
     "data": {
      "application/vnd.jupyter.widget-view+json": {
       "model_id": "bb8336bf4442466aadb5ea9ba7731fb4",
       "version_major": 2,
       "version_minor": 0
      },
      "text/plain": [
       "VBox()"
      ]
     },
     "metadata": {},
     "output_type": "display_data"
    },
    {
     "data": {
      "application/vnd.jupyter.widget-view+json": {
       "model_id": "",
       "version_major": 2,
       "version_minor": 0
      },
      "text/plain": [
       "FloatProgress(value=0.0, bar_style='info', description='Progress:', layout=Layout(height='25px', width='50%'),…"
      ]
     },
     "metadata": {},
     "output_type": "display_data"
    },
    {
     "name": "stdout",
     "output_type": "stream",
     "text": [
      "+----------------------+-----------------------+-----------+-----+---------------------------------------------------------------------------------------------------------+\n",
      "|business_id           |name                   |city       |state|categories                                                                                               |\n",
      "+----------------------+-----------------------+-----------+-----+---------------------------------------------------------------------------------------------------------+\n",
      "|6iYb2HFDywm3zjuRg0shjw|Oskar Blues Taproom    |Boulder    |CO   |Gastropubs, Food, Beer Gardens, Restaurants, Bars, American (Traditional), Beer Bar, Nightlife, Breweries|\n",
      "|tCbdrRPZA0oiIYSmHG3J0w|Flying Elephants at PDX|Portland   |OR   |Salad, Soup, Sandwiches, Delis, Restaurants, Cafes, Vegetarian                                           |\n",
      "|bvN78flM8NLprQ1a1y5dRg|The Reclaimory         |Portland   |OR   |Antiques, Fashion, Used, Vintage & Consignment, Shopping, Furniture Stores, Home & Garden                |\n",
      "|oaepsyvc0J17qwi8cfrOWg|Great Clips            |Orange City|FL   |Beauty & Spas, Hair Salons                                                                               |\n",
      "|PE9uqAjdw0E4-8mjGl3wVA|Crossfit Terminus      |Atlanta    |GA   |Gyms, Active Life, Interval Training Gyms, Fitness & Instruction                                         |\n",
      "+----------------------+-----------------------+-----------+-----+---------------------------------------------------------------------------------------------------------+\n",
      "only showing top 5 rows"
     ]
    }
   ],
   "source": [
    "#line7\n",
    "business_loc =  business.select(\"business_id\", \"name\",\"city\",\"state\",\"categories\")\n",
    "business_loc.show(5,truncate= False)"
   ]
  },
  {
   "cell_type": "code",
   "execution_count": 6,
   "id": "75f75ccf",
   "metadata": {},
   "outputs": [
    {
     "data": {
      "application/vnd.jupyter.widget-view+json": {
       "model_id": "934b42f5e0d946a09352a4fa61f316c3",
       "version_major": 2,
       "version_minor": 0
      },
      "text/plain": [
       "VBox()"
      ]
     },
     "metadata": {},
     "output_type": "display_data"
    },
    {
     "data": {
      "application/vnd.jupyter.widget-view+json": {
       "model_id": "",
       "version_major": 2,
       "version_minor": 0
      },
      "text/plain": [
       "FloatProgress(value=0.0, bar_style='info', description='Progress:', layout=Layout(height='25px', width='50%'),…"
      ]
     },
     "metadata": {},
     "output_type": "display_data"
    }
   ],
   "source": [
    "#line 8&9\n",
    "\n",
    "from pyspark.sql.functions import explode, split\n",
    "\n",
    "df=business_loc.select(\"business_id\",\"categories\")\n",
    "df_exploded = df.withColumn(\"category\",explode(split(\"categories\",\",\"))).drop(\"categories\")"
   ]
  },
  {
   "cell_type": "code",
   "execution_count": 7,
   "id": "71817d30",
   "metadata": {},
   "outputs": [
    {
     "data": {
      "application/vnd.jupyter.widget-view+json": {
       "model_id": "860517beb9e14d9582c62074e63202d4",
       "version_major": 2,
       "version_minor": 0
      },
      "text/plain": [
       "VBox()"
      ]
     },
     "metadata": {},
     "output_type": "display_data"
    },
    {
     "data": {
      "application/vnd.jupyter.widget-view+json": {
       "model_id": "",
       "version_major": 2,
       "version_minor": 0
      },
      "text/plain": [
       "FloatProgress(value=0.0, bar_style='info', description='Progress:', layout=Layout(height='25px', width='50%'),…"
      ]
     },
     "metadata": {},
     "output_type": "display_data"
    },
    {
     "name": "stdout",
     "output_type": "stream",
     "text": [
      "+----------------------+-------------+\n",
      "|business_id           |category     |\n",
      "+----------------------+-------------+\n",
      "|6iYb2HFDywm3zjuRg0shjw|Gastropubs   |\n",
      "|6iYb2HFDywm3zjuRg0shjw| Food        |\n",
      "|6iYb2HFDywm3zjuRg0shjw| Beer Gardens|\n",
      "|6iYb2HFDywm3zjuRg0shjw| Restaurants |\n",
      "|6iYb2HFDywm3zjuRg0shjw| Bars        |\n",
      "+----------------------+-------------+\n",
      "only showing top 5 rows"
     ]
    }
   ],
   "source": [
    "#line10\n",
    "df_exploded.show(5,truncate=False)"
   ]
  },
  {
   "cell_type": "code",
   "execution_count": 8,
   "id": "f097c51f",
   "metadata": {},
   "outputs": [
    {
     "data": {
      "application/vnd.jupyter.widget-view+json": {
       "model_id": "0b480b8c49cb4c8e96c83c1719aa4438",
       "version_major": 2,
       "version_minor": 0
      },
      "text/plain": [
       "VBox()"
      ]
     },
     "metadata": {},
     "output_type": "display_data"
    },
    {
     "data": {
      "application/vnd.jupyter.widget-view+json": {
       "model_id": "",
       "version_major": 2,
       "version_minor": 0
      },
      "text/plain": [
       "FloatProgress(value=0.0, bar_style='info', description='Progress:', layout=Layout(height='25px', width='50%'),…"
      ]
     },
     "metadata": {},
     "output_type": "display_data"
    },
    {
     "name": "stdout",
     "output_type": "stream",
     "text": [
      "2487"
     ]
    }
   ],
   "source": [
    "#line11\n",
    "df_exploded.select('category').distinct().count()"
   ]
  },
  {
   "cell_type": "code",
   "execution_count": 9,
   "id": "97dfdfe3",
   "metadata": {},
   "outputs": [
    {
     "data": {
      "application/vnd.jupyter.widget-view+json": {
       "model_id": "23f318971d7a408bb9cd1562697819cb",
       "version_major": 2,
       "version_minor": 0
      },
      "text/plain": [
       "VBox()"
      ]
     },
     "metadata": {},
     "output_type": "display_data"
    },
    {
     "data": {
      "application/vnd.jupyter.widget-view+json": {
       "model_id": "",
       "version_major": 2,
       "version_minor": 0
      },
      "text/plain": [
       "FloatProgress(value=0.0, bar_style='info', description='Progress:', layout=Layout(height='25px', width='50%'),…"
      ]
     },
     "metadata": {},
     "output_type": "display_data"
    },
    {
     "name": "stdout",
     "output_type": "stream",
     "text": [
      "+-------------------+-----+\n",
      "|           category|count|\n",
      "+-------------------+-----+\n",
      "|     Paddleboarding|   12|\n",
      "|     Dermatologists|   68|\n",
      "|              Tires| 1456|\n",
      "|   Historical Tours|   60|\n",
      "|              Hakka|    4|\n",
      "|        Hobby Shops|  135|\n",
      "|         Bubble Tea|  184|\n",
      "|            Tanning|  147|\n",
      "|            Propane|   83|\n",
      "|           Handyman|   87|\n",
      "|           Macarons|   50|\n",
      "|           Japanese| 2039|\n",
      "| Convenience Stores| 1340|\n",
      "|        Car Dealers| 1013|\n",
      "|            Lawyers|  422|\n",
      "|       IV Hydration|   47|\n",
      "|            Rolfing|   28|\n",
      "|            Falafel|   19|\n",
      "|           Psychics|   62|\n",
      "|    Tasting Classes|   40|\n",
      "+-------------------+-----+\n",
      "only showing top 20 rows"
     ]
    }
   ],
   "source": [
    "#line12\n",
    "df_exploded.groupby('category').count().show()"
   ]
  },
  {
   "cell_type": "code",
   "execution_count": 10,
   "id": "f0143b9f",
   "metadata": {},
   "outputs": [
    {
     "data": {
      "application/vnd.jupyter.widget-view+json": {
       "model_id": "b6fcb0bd1db74951a58d1b2140c51cb2",
       "version_major": 2,
       "version_minor": 0
      },
      "text/plain": [
       "VBox()"
      ]
     },
     "metadata": {},
     "output_type": "display_data"
    },
    {
     "data": {
      "application/vnd.jupyter.widget-view+json": {
       "model_id": "",
       "version_major": 2,
       "version_minor": 0
      },
      "text/plain": [
       "FloatProgress(value=0.0, bar_style='info', description='Progress:', layout=Layout(height='25px', width='50%'),…"
      ]
     },
     "metadata": {},
     "output_type": "display_data"
    },
    {
     "name": "stdout",
     "output_type": "stream",
     "text": [
      "+--------------------+-----+\n",
      "|            category|count|\n",
      "+--------------------+-----+\n",
      "|         Restaurants|36340|\n",
      "|                Food|22094|\n",
      "|            Shopping|20056|\n",
      "|         Restaurants|14423|\n",
      "|       Home Services|12001|\n",
      "|       Beauty & Spas|11633|\n",
      "|    Health & Medical|11390|\n",
      "|           Nightlife| 9808|\n",
      "|      Local Services| 9299|\n",
      "|                Bars| 8914|\n",
      "| Event Planning &...| 7617|\n",
      "|                Food| 7375|\n",
      "|         Active Life| 7039|\n",
      "|          Automotive| 6785|\n",
      "|            Shopping| 6149|\n",
      "|        Coffee & Tea| 5735|\n",
      "|          Sandwiches| 5697|\n",
      "| American (Tradit...| 5235|\n",
      "|             Fashion| 5231|\n",
      "|       Beauty & Spas| 4941|\n",
      "+--------------------+-----+\n",
      "only showing top 20 rows"
     ]
    }
   ],
   "source": [
    "#line13\n",
    "bar = df_exploded.groupby('category').count().orderBy(\"count\",ascending=False)\n",
    "bar.show()"
   ]
  },
  {
   "cell_type": "code",
   "execution_count": 11,
   "id": "ba44c032",
   "metadata": {},
   "outputs": [
    {
     "data": {
      "application/vnd.jupyter.widget-view+json": {
       "model_id": "66d0d4090a6c47afa529924e0ddd5b48",
       "version_major": 2,
       "version_minor": 0
      },
      "text/plain": [
       "VBox()"
      ]
     },
     "metadata": {},
     "output_type": "display_data"
    },
    {
     "data": {
      "application/vnd.jupyter.widget-view+json": {
       "model_id": "",
       "version_major": 2,
       "version_minor": 0
      },
      "text/plain": [
       "FloatProgress(value=0.0, bar_style='info', description='Progress:', layout=Layout(height='25px', width='50%'),…"
      ]
     },
     "metadata": {},
     "output_type": "display_data"
    },
    {
     "name": "stdout",
     "output_type": "stream",
     "text": [
      "                      category  count\n",
      "0                  Restaurants  36340\n",
      "1                         Food  22094\n",
      "2                     Shopping  20056\n",
      "3                  Restaurants  14423\n",
      "4                Home Services  12001\n",
      "5                Beauty & Spas  11633\n",
      "6             Health & Medical  11390\n",
      "7                    Nightlife   9808\n",
      "8               Local Services   9299\n",
      "9                         Bars   8914\n",
      "10   Event Planning & Services   7617\n",
      "11                        Food   7375\n",
      "12                 Active Life   7039\n",
      "13                  Automotive   6785\n",
      "14                    Shopping   6149\n",
      "15                Coffee & Tea   5735\n",
      "16                  Sandwiches   5697\n",
      "17      American (Traditional)   5235\n",
      "18                     Fashion   5231\n",
      "19               Beauty & Spas   4941"
     ]
    }
   ],
   "source": [
    "#line14\n",
    "bar_pandas = bar.limit(20).toPandas()\n",
    "bar_pandas"
   ]
  },
  {
   "cell_type": "code",
   "execution_count": 12,
   "id": "2dab1ce0",
   "metadata": {},
   "outputs": [
    {
     "data": {
      "application/vnd.jupyter.widget-view+json": {
       "model_id": "a7b6017276ce4d2e98772dbb8c13474f",
       "version_major": 2,
       "version_minor": 0
      },
      "text/plain": [
       "VBox()"
      ]
     },
     "metadata": {},
     "output_type": "display_data"
    },
    {
     "data": {
      "application/vnd.jupyter.widget-view+json": {
       "model_id": "",
       "version_major": 2,
       "version_minor": 0
      },
      "text/plain": [
       "FloatProgress(value=0.0, bar_style='info', description='Progress:', layout=Layout(height='25px', width='50%'),…"
      ]
     },
     "metadata": {},
     "output_type": "display_data"
    },
    {
     "data": {
      "image/png": "[encoded data removed]",
      "text/plain": [
       "<IPython.core.display.Image object>"
      ]
     },
     "metadata": {},
     "output_type": "display_data"
    }
   ],
   "source": [
    "#line15\n",
    "plt.figure(figsize=(10,6))\n",
    "bar_pandas.plot(kind=\"barh\", x=\"category\", figsize=(8,6))\n",
    "\n",
    "%matplot plt"
   ]
  },
  {
   "cell_type": "code",
   "execution_count": 13,
   "id": "e572cb83",
   "metadata": {},
   "outputs": [
    {
     "data": {
      "application/vnd.jupyter.widget-view+json": {
       "model_id": "97b1b6337f0c4c13aaa81d82e01954b0",
       "version_major": 2,
       "version_minor": 0
      },
      "text/plain": [
       "VBox()"
      ]
     },
     "metadata": {},
     "output_type": "display_data"
    },
    {
     "data": {
      "application/vnd.jupyter.widget-view+json": {
       "model_id": "",
       "version_major": 2,
       "version_minor": 0
      },
      "text/plain": [
       "FloatProgress(value=0.0, bar_style='info', description='Progress:', layout=Layout(height='25px', width='50%'),…"
      ]
     },
     "metadata": {},
     "output_type": "display_data"
    },
    {
     "name": "stdout",
     "output_type": "stream",
     "text": [
      "8635403\n",
      "9\n",
      "root\n",
      " |-- business_id: string (nullable = true)\n",
      " |-- cool: long (nullable = true)\n",
      " |-- date: string (nullable = true)\n",
      " |-- funny: long (nullable = true)\n",
      " |-- review_id: string (nullable = true)\n",
      " |-- stars: double (nullable = true)\n",
      " |-- text: string (nullable = true)\n",
      " |-- useful: long (nullable = true)\n",
      " |-- user_id: string (nullable = true)"
     ]
    }
   ],
   "source": [
    "#line 16\n",
    "new_rows=review.count()\n",
    "print(new_rows)\n",
    "columns = len(review.columns)\n",
    "print(columns)\n",
    "review.printSchema()"
   ]
  },
  {
   "cell_type": "code",
   "execution_count": 14,
   "id": "491afd97",
   "metadata": {},
   "outputs": [
    {
     "data": {
      "application/vnd.jupyter.widget-view+json": {
       "model_id": "38258b290be9498aaea4ef4d46a54b22",
       "version_major": 2,
       "version_minor": 0
      },
      "text/plain": [
       "VBox()"
      ]
     },
     "metadata": {},
     "output_type": "display_data"
    },
    {
     "data": {
      "application/vnd.jupyter.widget-view+json": {
       "model_id": "",
       "version_major": 2,
       "version_minor": 0
      },
      "text/plain": [
       "FloatProgress(value=0.0, bar_style='info', description='Progress:', layout=Layout(height='25px', width='50%'),…"
      ]
     },
     "metadata": {},
     "output_type": "display_data"
    },
    {
     "name": "stdout",
     "output_type": "stream",
     "text": [
      "+--------------------+-----+\n",
      "|         business_id|stars|\n",
      "+--------------------+-----+\n",
      "|buF9druCkbuXLX526...|  4.0|\n",
      "|RA4V8pr014UyUbDvI...|  4.0|\n",
      "|_sS2LBIGNT5NQb6PD...|  5.0|\n",
      "|0AzLzHfOJgL7ROwhd...|  2.0|\n",
      "|8zehGz9jnxPqXtOc7...|  4.0|\n",
      "+--------------------+-----+\n",
      "only showing top 5 rows"
     ]
    }
   ],
   "source": [
    "#line 17 不知道对不对\n",
    "review =  review.select(\"business_id\",\"stars\")\n",
    "review.show(5)"
   ]
  },
  {
   "cell_type": "code",
   "execution_count": 15,
   "id": "23af2c62",
   "metadata": {},
   "outputs": [
    {
     "data": {
      "application/vnd.jupyter.widget-view+json": {
       "model_id": "51a3b209dcc1463585b26934ee04b31e",
       "version_major": 2,
       "version_minor": 0
      },
      "text/plain": [
       "VBox()"
      ]
     },
     "metadata": {},
     "output_type": "display_data"
    },
    {
     "data": {
      "application/vnd.jupyter.widget-view+json": {
       "model_id": "",
       "version_major": 2,
       "version_minor": 0
      },
      "text/plain": [
       "FloatProgress(value=0.0, bar_style='info', description='Progress:', layout=Layout(height='25px', width='50%'),…"
      ]
     },
     "metadata": {},
     "output_type": "display_data"
    },
    {
     "name": "stdout",
     "output_type": "stream",
     "text": [
      "+----------------------+----------+\n",
      "|business_id           |avg(stars)|\n",
      "+----------------------+----------+\n",
      "|4lFIFqycDhV8KQGTFzoEAg|5.0       |\n",
      "|jZBhw30QecAQNDtpMTSwkA|5.0       |\n",
      "|_elpnSyXg14LffDRH6HD2w|5.0       |\n",
      "|j63ReWJhgerb-7em4brmbA|5.0       |\n",
      "|sxSc6amhnvXbKbaZaqDJLA|5.0       |\n",
      "+----------------------+----------+\n",
      "only showing top 5 rows"
     ]
    }
   ],
   "source": [
    "#line18\n",
    "review_dataset= review.groupby(\"business_id\").avg(\"stars\").alias(\"avg(stars)\").sort(col(\"avg(stars)\").desc())\n",
    "review_dataset.show(5,truncate=False)\n"
   ]
  },
  {
   "cell_type": "code",
   "execution_count": 16,
   "id": "3927b2e7",
   "metadata": {},
   "outputs": [
    {
     "data": {
      "application/vnd.jupyter.widget-view+json": {
       "model_id": "aa9dd6f193b8420fb8cf8f4356392570",
       "version_major": 2,
       "version_minor": 0
      },
      "text/plain": [
       "VBox()"
      ]
     },
     "metadata": {},
     "output_type": "display_data"
    },
    {
     "data": {
      "application/vnd.jupyter.widget-view+json": {
       "model_id": "",
       "version_major": 2,
       "version_minor": 0
      },
      "text/plain": [
       "FloatProgress(value=0.0, bar_style='info', description='Progress:', layout=Layout(height='25px', width='50%'),…"
      ]
     },
     "metadata": {},
     "output_type": "display_data"
    },
    {
     "name": "stdout",
     "output_type": "stream",
     "text": [
      "+--------------------+-----------------+--------------------+--------------------+----------+-----+--------------------+-----+\n",
      "|         business_id|       avg(stars)|         business_id|                name|      city|state|          categories|stars|\n",
      "+--------------------+-----------------+--------------------+--------------------+----------+-----+--------------------+-----+\n",
      "|R0IJhEI-zSJpYT1YN...|3.606060606060606|R0IJhEI-zSJpYT1YN...|        Nails Studio|    Dedham|   MA|Nail Salons, Waxi...|  3.5|\n",
      "|wdBrDCbZopowEkIEX...|4.538461538461538|wdBrDCbZopowEkIEX...|Beacon Hill Shoe ...|    Boston|   MA|Local Services, S...|  4.5|\n",
      "|2boQDeHxopolPtJhV...|4.333333333333333|2boQDeHxopolPtJhV...| Eric Hollander, DDS|    Austin|   TX|Oral Surgeons, En...|  4.5|\n",
      "|bOnsvrz1VkbrZM1jV...|              3.8|bOnsvrz1VkbrZM1jV...|Fresh Touch Cleaners|Winchester|   MA|Local Services, D...|  4.0|\n",
      "|XzXcpPCb8Y5huklEN...|4.666666666666667|XzXcpPCb8Y5huklEN...|       Donna & Toots|  Portland|   OR|   Shopping, Fashion|  4.5|\n",
      "+--------------------+-----------------+--------------------+--------------------+----------+-----+--------------------+-----+\n",
      "only showing top 5 rows"
     ]
    }
   ],
   "source": [
    "#line 19\n",
    "business_loc= business.select(\"business_id\", \"name\",\"city\",\"state\",\"categories\",\"stars\")\n",
    "joined_data = review_dataset.join(business_loc,review_dataset.business_id == business_loc.business_id)#.join(review,review.business_id==review_dataset.business_id)\n",
    "\n",
    "joined_data.show(5)"
   ]
  },
  {
   "cell_type": "code",
   "execution_count": 17,
   "id": "657774f5",
   "metadata": {},
   "outputs": [
    {
     "data": {
      "application/vnd.jupyter.widget-view+json": {
       "model_id": "f74bbd67cd0f4ca98b6c61b55df31b3b",
       "version_major": 2,
       "version_minor": 0
      },
      "text/plain": [
       "VBox()"
      ]
     },
     "metadata": {},
     "output_type": "display_data"
    },
    {
     "data": {
      "application/vnd.jupyter.widget-view+json": {
       "model_id": "",
       "version_major": 2,
       "version_minor": 0
      },
      "text/plain": [
       "FloatProgress(value=0.0, bar_style='info', description='Progress:', layout=Layout(height='25px', width='50%'),…"
      ]
     },
     "metadata": {},
     "output_type": "display_data"
    },
    {
     "name": "stdout",
     "output_type": "stream",
     "text": [
      "+-----------------+--------------------+----------+-----+-----+\n",
      "|       avg(stars)|                name|      city|state|stars|\n",
      "+-----------------+--------------------+----------+-----+-----+\n",
      "|3.606060606060606|        Nails Studio|    Dedham|   MA|  3.5|\n",
      "|4.538461538461538|Beacon Hill Shoe ...|    Boston|   MA|  4.5|\n",
      "|4.333333333333333| Eric Hollander, DDS|    Austin|   TX|  4.5|\n",
      "|              3.8|Fresh Touch Cleaners|Winchester|   MA|  4.0|\n",
      "|4.666666666666667|       Donna & Toots|  Portland|   OR|  4.5|\n",
      "+-----------------+--------------------+----------+-----+-----+\n",
      "only showing top 5 rows"
     ]
    }
   ],
   "source": [
    "#line20\n",
    "final_data=joined_data.drop(\"business_id\",\"categories\")\n",
    "final_data.show(5)\n",
    "#joined_data = joined_data.select(\"avg(stars)\",\"stars\",\"name\",\"city\",\"state\")"
   ]
  },
  {
   "cell_type": "code",
   "execution_count": 18,
   "id": "ee5c4562",
   "metadata": {},
   "outputs": [
    {
     "data": {
      "application/vnd.jupyter.widget-view+json": {
       "model_id": "1a4a6e216f8448989e2d653add632981",
       "version_major": 2,
       "version_minor": 0
      },
      "text/plain": [
       "VBox()"
      ]
     },
     "metadata": {},
     "output_type": "display_data"
    },
    {
     "data": {
      "application/vnd.jupyter.widget-view+json": {
       "model_id": "",
       "version_major": 2,
       "version_minor": 0
      },
      "text/plain": [
       "FloatProgress(value=0.0, bar_style='info', description='Progress:', layout=Layout(height='25px', width='50%'),…"
      ]
     },
     "metadata": {},
     "output_type": "display_data"
    },
    {
     "name": "stdout",
     "output_type": "stream",
     "text": [
      "+--------------------+---------------+-----+--------------------+\n",
      "|                name|           city|state|             cal_col|\n",
      "+--------------------+---------------+-----+--------------------+\n",
      "|        Nails Studio|         Dedham|   MA|0.030303030303030276|\n",
      "|Beacon Hill Shoe ...|         Boston|   MA|0.008547008547008517|\n",
      "| Eric Hollander, DDS|         Austin|   TX|-0.03703703703703...|\n",
      "|Fresh Touch Cleaners|     Winchester|   MA|-0.05000000000000...|\n",
      "|       Donna & Toots|       Portland|   OR|0.037037037037037104|\n",
      "|              Subway|       Portland|   OR|-0.01999999999999...|\n",
      "|Ruiz Branch - Aus...|         Austin|   TX|0.050000000000000044|\n",
      "|    GibsonBreen & Co|        Atlanta|   GA|                 0.0|\n",
      "|True Glow | Buckhead|        Atlanta|   GA|0.037037037037037104|\n",
      "|Brookline Adult &...|      Brookline|   MA|-0.05357142857142857|\n",
      "|Robert T Franklin...|      Beaverton|   OR|                 0.0|\n",
      "|             Wendy's|New Westminster|   BC|                 0.0|\n",
      "|Tarrytown Barber ...|         Austin|   TX|0.047619047619047644|\n",
      "|     Builder By Bike|       Portland|   OR|                 0.0|\n",
      "|College Housing N...|       Portland|   OR|-0.04000000000000...|\n",
      "|Nectar Frozen Yog...|       Portland|   OR|-0.01399176954732...|\n",
      "|   Searge Sautre, DC|       Chamblee|   GA|-0.02272727272727...|\n",
      "|        Freedom Tail|         Boston|   MA|                 0.0|\n",
      "|Reverend Nat's Ha...|       Portland|   OR|-0.02380952380952...|\n",
      "|    Creekside Kayaks|      Vancouver|   BC|                 0.0|\n",
      "+--------------------+---------------+-----+--------------------+\n",
      "only showing top 20 rows"
     ]
    }
   ],
   "source": [
    "#line 21\n",
    "final_data2 = final_data.withColumn(\"cal_col\",((final_data['avg(stars)'] - final_data['stars']) / final_data['stars'])).drop(\"avg(stars)\",\"stars\")\n",
    "final_data2.show()"
   ]
  },
  {
   "cell_type": "code",
   "execution_count": 19,
   "id": "99bb2a49",
   "metadata": {},
   "outputs": [
    {
     "data": {
      "application/vnd.jupyter.widget-view+json": {
       "model_id": "d9864022f0e74d349f984fd722bbdfdd",
       "version_major": 2,
       "version_minor": 0
      },
      "text/plain": [
       "VBox()"
      ]
     },
     "metadata": {},
     "output_type": "display_data"
    },
    {
     "data": {
      "application/vnd.jupyter.widget-view+json": {
       "model_id": "",
       "version_major": 2,
       "version_minor": 0
      },
      "text/plain": [
       "FloatProgress(value=0.0, bar_style='info', description='Progress:', layout=Layout(height='25px', width='50%'),…"
      ]
     },
     "metadata": {},
     "output_type": "display_data"
    },
    {
     "data": {
      "image/png": "[encoded data removed]",
      "text/plain": [
       "<IPython.core.display.Image object>"
      ]
     },
     "metadata": {},
     "output_type": "display_data"
    }
   ],
   "source": [
    "#line22   #看起来slightly right skewed\n",
    "\n",
    "final_data2.toPandas().plot(kind=\"hist\",bins=50,title=\"Skewness\",density=True,linestyle = \"dashed\",linewidth = 1)\n",
    "%matplot plt"
   ]
  },
  {
   "cell_type": "code",
   "execution_count": 20,
   "id": "0b4a26bf",
   "metadata": {},
   "outputs": [
    {
     "data": {
      "application/vnd.jupyter.widget-view+json": {
       "model_id": "28d6585e2fd9426489e3138b41eebb6d",
       "version_major": 2,
       "version_minor": 0
      },
      "text/plain": [
       "VBox()"
      ]
     },
     "metadata": {},
     "output_type": "display_data"
    },
    {
     "data": {
      "application/vnd.jupyter.widget-view+json": {
       "model_id": "",
       "version_major": 2,
       "version_minor": 0
      },
      "text/plain": [
       "FloatProgress(value=0.0, bar_style='info', description='Progress:', layout=Layout(height='25px', width='50%'),…"
      ]
     },
     "metadata": {},
     "output_type": "display_data"
    },
    {
     "name": "stdout",
     "output_type": "stream",
     "text": [
      "+----------------------+----+------+\n",
      "|user_id               |fans|useful|\n",
      "+----------------------+----+------+\n",
      "|q_QQ5kBBwlCcbL1s4NVK3g|1357|15038 |\n",
      "|dIIKEfOgo0KqUfGQvGikPg|1025|21272 |\n",
      "|D6ErcUnFALnCQN4b1W_TlA|16  |188   |\n",
      "|JnPIjvC0cmooNDfsa9BmXg|420 |7234  |\n",
      "|37Hc8hr3cw0iHLoPzLK6Ow|47  |1577  |\n",
      "|n-QwITZYrXlKQRiV30MqNg|17  |476   |\n",
      "|eCJoZqpV1fDKJGAsXmWXqQ|1   |53    |\n",
      "|cojecOwQJpsYDxnjtgzteQ|4   |136   |\n",
      "|1jXmzuIFKxTnEnR0pxO0Hg|23  |381   |\n",
      "|-8QoOIfvwwxJ4sY201WP5A|25  |752   |\n",
      "|EtofuImujQBSo02xa6ZRtQ|5   |159   |\n",
      "|cxS6dbjyPgPS1S890u_khA|2   |116   |\n",
      "|MUzkXfPS9JaMgJ907orz0g|86  |2235  |\n",
      "|tjwblGkWN9m0vsGaypJ0Vw|44  |1469  |\n",
      "|m-zIVssiXN4bnDFqMdPtEA|0   |6     |\n",
      "|fxqvyXlml4400BglsxRG_w|38  |903   |\n",
      "|9edAbpniyhHFdpAvknQPBg|48  |1532  |\n",
      "|wURnB9fRNGAli13yBwhENA|6   |235   |\n",
      "|l4P65LXNBnJqI7oTXdBvGg|9   |419   |\n",
      "|9RIXlhUb_xEVuc_o0QsT0w|2   |44    |\n",
      "+----------------------+----+------+\n",
      "only showing top 20 rows"
     ]
    }
   ],
   "source": [
    "user_data_ = user.select(\"user_id\",\"fans\",\"useful\")\n",
    "user_data_.show(truncate=False)"
   ]
  },
  {
   "cell_type": "code",
   "execution_count": 21,
   "id": "aef6940a",
   "metadata": {},
   "outputs": [
    {
     "data": {
      "application/vnd.jupyter.widget-view+json": {
       "model_id": "19f493008a4c4c3a985cc07feb9d0853",
       "version_major": 2,
       "version_minor": 0
      },
      "text/plain": [
       "VBox()"
      ]
     },
     "metadata": {},
     "output_type": "display_data"
    },
    {
     "data": {
      "application/vnd.jupyter.widget-view+json": {
       "model_id": "",
       "version_major": 2,
       "version_minor": 0
      },
      "text/plain": [
       "FloatProgress(value=0.0, bar_style='info', description='Progress:', layout=Layout(height='25px', width='50%'),…"
      ]
     },
     "metadata": {},
     "output_type": "display_data"
    }
   ],
   "source": [
    "review = spark.read.json('s3://9760project2/project2_yelp/yelp_academic_dataset_review.json')"
   ]
  },
  {
   "cell_type": "code",
   "execution_count": 22,
   "id": "f2b17e59",
   "metadata": {},
   "outputs": [
    {
     "data": {
      "application/vnd.jupyter.widget-view+json": {
       "model_id": "8c8ef31bc4764b0aa9f78f448fc38b53",
       "version_major": 2,
       "version_minor": 0
      },
      "text/plain": [
       "VBox()"
      ]
     },
     "metadata": {},
     "output_type": "display_data"
    },
    {
     "data": {
      "application/vnd.jupyter.widget-view+json": {
       "model_id": "",
       "version_major": 2,
       "version_minor": 0
      },
      "text/plain": [
       "FloatProgress(value=0.0, bar_style='info', description='Progress:', layout=Layout(height='25px', width='50%'),…"
      ]
     },
     "metadata": {},
     "output_type": "display_data"
    },
    {
     "name": "stdout",
     "output_type": "stream",
     "text": [
      "+----------------------+----------------+\n",
      "|new_user_id           |users_liked_post|\n",
      "+----------------------+----------------+\n",
      "|ak0TdVmGKo4pwqdJSTLwWw|3               |\n",
      "|YoVfDbnISlW0f7abNQACIg|1               |\n",
      "|eC5evKn1TWDyHCyQAwguUw|0               |\n",
      "|SFQ1jcnGguO0LYWnbbftAA|1               |\n",
      "|0kA0PAJ8QFMeveQWHFqz2A|0               |\n",
      "|RNm_RWkcd02Li2mKPRe7Eg|2               |\n",
      "|Q8c91v7luItVB0cMFF_mRA|0               |\n",
      "|XGkAG92TQ3MQUKGX9sLUhw|0               |\n",
      "|LWUnzwK0ILquLLZcHHE1Mw|1               |\n",
      "|99RsBrARhhx60UnAC4yDoA|0               |\n",
      "|eLAYHxHUutiXswy-CfeiUw|0               |\n",
      "|Ngl83gs3n22SzLAsNw2znw|3               |\n",
      "|hn0ZbitvmlHnF--KJGJ6_A|0               |\n",
      "|B7YSV6r1ePAXc69FkDDuZw|0               |\n",
      "|xpxWG7jQXZE6BcSeuIq4PQ|0               |\n",
      "|HvpNr0ohHCaVLp014CQrdw|0               |\n",
      "|bUHweiErUJ36WGeNrPmEbA|5               |\n",
      "|JHXQEayrDHOWGexs0dCviA|0               |\n",
      "|DECuRZwkUw8ELQZfNGef2Q|0               |\n",
      "|jySmPCkEkJR3cWJlkEs9cw|5               |\n",
      "+----------------------+----------------+\n",
      "only showing top 20 rows"
     ]
    }
   ],
   "source": [
    "review_data_ = review.select(\"user_id\",\"useful\").withColumnRenamed(\"useful\",\"users_liked_post\").withColumnRenamed(\"user_id\",\"new_user_id\")\n",
    "review_data_.show(truncate=False)"
   ]
  },
  {
   "cell_type": "code",
   "execution_count": 23,
   "id": "9cf4920e",
   "metadata": {},
   "outputs": [
    {
     "data": {
      "application/vnd.jupyter.widget-view+json": {
       "model_id": "a8dee7fd796b413f8f6d778c74323f50",
       "version_major": 2,
       "version_minor": 0
      },
      "text/plain": [
       "VBox()"
      ]
     },
     "metadata": {},
     "output_type": "display_data"
    },
    {
     "data": {
      "application/vnd.jupyter.widget-view+json": {
       "model_id": "",
       "version_major": 2,
       "version_minor": 0
      },
      "text/plain": [
       "FloatProgress(value=0.0, bar_style='info', description='Progress:', layout=Layout(height='25px', width='50%'),…"
      ]
     },
     "metadata": {},
     "output_type": "display_data"
    },
    {
     "name": "stdout",
     "output_type": "stream",
     "text": [
      "+----------------------+------+----------------+\n",
      "|user_id               |useful|users_liked_post|\n",
      "+----------------------+------+----------------+\n",
      "|--1UpCuUDJQbqiuFXkOzaw|14    |1               |\n",
      "|--3Bk72HakneTyp3DEjecg|11    |0               |\n",
      "|--3Hl2oAvTPlq-f7KtogJg|14    |0               |\n",
      "|--3Hl2oAvTPlq-f7KtogJg|14    |0               |\n",
      "|--3Hl2oAvTPlq-f7KtogJg|14    |1               |\n",
      "|--3Hl2oAvTPlq-f7KtogJg|14    |1               |\n",
      "|--5FEgQNB3_7WtjxkCsGqA|4     |1               |\n",
      "|--5FEgQNB3_7WtjxkCsGqA|4     |0               |\n",
      "|--5FEgQNB3_7WtjxkCsGqA|4     |0               |\n",
      "|--5FEgQNB3_7WtjxkCsGqA|4     |1               |\n",
      "|--5FEgQNB3_7WtjxkCsGqA|4     |0               |\n",
      "|--5FEgQNB3_7WtjxkCsGqA|4     |1               |\n",
      "|--DCpT4hVZNRpRx572pkEw|2     |0               |\n",
      "|--DCpT4hVZNRpRx572pkEw|2     |0               |\n",
      "|--Hh_cXFJJUqYB2STxz1vw|0     |0               |\n",
      "|--IpFJ0EzvdepaxP47X5eg|3     |0               |\n",
      "|--IpFJ0EzvdepaxP47X5eg|3     |2               |\n",
      "|--IpFJ0EzvdepaxP47X5eg|3     |0               |\n",
      "|--IpFJ0EzvdepaxP47X5eg|3     |0               |\n",
      "|--IpFJ0EzvdepaxP47X5eg|3     |1               |\n",
      "+----------------------+------+----------------+\n",
      "only showing top 20 rows"
     ]
    }
   ],
   "source": [
    "line_23 = user_data_.join(review_data_,review_data_.new_user_id == user_data_.user_id).drop(\"new_user_id\").drop(\"fans\")\n",
    "line_23.show(truncate=False)"
   ]
  },
  {
   "cell_type": "code",
   "execution_count": 24,
   "id": "36361a24",
   "metadata": {},
   "outputs": [
    {
     "data": {
      "application/vnd.jupyter.widget-view+json": {
       "model_id": "1a7097994540423585d881496f233f07",
       "version_major": 2,
       "version_minor": 0
      },
      "text/plain": [
       "VBox()"
      ]
     },
     "metadata": {},
     "output_type": "display_data"
    },
    {
     "data": {
      "application/vnd.jupyter.widget-view+json": {
       "model_id": "",
       "version_major": 2,
       "version_minor": 0
      },
      "text/plain": [
       "FloatProgress(value=0.0, bar_style='info', description='Progress:', layout=Layout(height='25px', width='50%'),…"
      ]
     },
     "metadata": {},
     "output_type": "display_data"
    },
    {
     "name": "stdout",
     "output_type": "stream",
     "text": [
      "+--------------------+------------------+\n",
      "|             user_id|          useful_ |\n",
      "+--------------------+------------------+\n",
      "|--1UpCuUDJQbqiuFX...|              14.0|\n",
      "|--3Hl2oAvTPlq-f7K...|              14.0|\n",
      "|--3Hl2oAvTPlq-f7K...|              14.0|\n",
      "|--5FEgQNB3_7Wtjxk...|               4.0|\n",
      "|--5FEgQNB3_7Wtjxk...|               4.0|\n",
      "|--5FEgQNB3_7Wtjxk...|               4.0|\n",
      "|--IpFJ0EzvdepaxP4...|               1.5|\n",
      "|--IpFJ0EzvdepaxP4...|               3.0|\n",
      "|-0-cCufup-5zSCtC9...|               1.0|\n",
      "|-03gNm8GRPNfgPD4_...|               5.0|\n",
      "|-03gNm8GRPNfgPD4_...|               5.0|\n",
      "|-04oKvKUjD6p-wgjU...| 5.651162790697675|\n",
      "|-08_7TyKsYwY_Jxhg...|               3.0|\n",
      "|-0CYm85fllm43U7UQ...|               4.0|\n",
      "|-0PJyCuCFCuUk7_TS...|1.3333333333333333|\n",
      "|-0PrUwCtOxcoqbvxN...|               2.5|\n",
      "|-0PrUwCtOxcoqbvxN...|1.6666666666666667|\n",
      "|-0vUEEyCtW0fE5NL5...|               4.0|\n",
      "|-12phdDdJ0OpoRVf1...|               6.0|\n",
      "|-1CV3L7RAk34790wX...|              66.0|\n",
      "+--------------------+------------------+\n",
      "only showing top 20 rows"
     ]
    }
   ],
   "source": [
    "final_data__ = line_23.withColumn(\"useful_ \",(line_23['useful']/ line_23['users_liked_post'])).drop(\"useful\",\"users_liked_post\").dropna()\n",
    "final_data__.show()"
   ]
  },
  {
   "cell_type": "code",
   "execution_count": 25,
   "id": "da325d71",
   "metadata": {},
   "outputs": [
    {
     "data": {
      "application/vnd.jupyter.widget-view+json": {
       "model_id": "0160a3fb77a140ea87eb69ac3d63d534",
       "version_major": 2,
       "version_minor": 0
      },
      "text/plain": [
       "VBox()"
      ]
     },
     "metadata": {},
     "output_type": "display_data"
    },
    {
     "data": {
      "application/vnd.jupyter.widget-view+json": {
       "model_id": "",
       "version_major": 2,
       "version_minor": 0
      },
      "text/plain": [
       "FloatProgress(value=0.0, bar_style='info', description='Progress:', layout=Layout(height='25px', width='50%'),…"
      ]
     },
     "metadata": {},
     "output_type": "display_data"
    }
   ],
   "source": [
    "bar_pandas = final_data__.limit(20).toPandas()"
   ]
  },
  {
   "cell_type": "code",
   "execution_count": 26,
   "id": "81c38351",
   "metadata": {},
   "outputs": [
    {
     "data": {
      "application/vnd.jupyter.widget-view+json": {
       "model_id": "b51ca0f0572a4f31b8168b41f9c277be",
       "version_major": 2,
       "version_minor": 0
      },
      "text/plain": [
       "VBox()"
      ]
     },
     "metadata": {},
     "output_type": "display_data"
    },
    {
     "data": {
      "application/vnd.jupyter.widget-view+json": {
       "model_id": "",
       "version_major": 2,
       "version_minor": 0
      },
      "text/plain": [
       "FloatProgress(value=0.0, bar_style='info', description='Progress:', layout=Layout(height='25px', width='50%'),…"
      ]
     },
     "metadata": {},
     "output_type": "display_data"
    },
    {
     "data": {
      "image/png": "[encoded data removed]",
      "text/plain": [
       "<IPython.core.display.Image object>"
      ]
     },
     "metadata": {},
     "output_type": "display_data"
    }
   ],
   "source": [
    "bar_pandas.plot(kind=\"hist\",bins=50,title=\"Skewness\",density=True,linestyle = \"dashed\",linewidth = 1)\n",
    "%matplot plt"
   ]
  },
  {
   "cell_type": "code",
   "execution_count": null,
   "id": "aba6d860",
   "metadata": {},
   "outputs": [],
   "source": []
  }
 ],
 "metadata": {
  "kernelspec": {
   "display_name": "PySpark",
   "language": "",
   "name": "pysparkkernel"
  },
  "language_info": {
   "codemirror_mode": {
    "name": "python",
    "version": 2
   },
   "mimetype": "text/x-python",
   "name": "pyspark",
   "pygments_lexer": "python2"
  }
 },
 "nbformat": 4,
 "nbformat_minor": 5
}
